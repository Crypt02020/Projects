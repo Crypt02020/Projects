{
 "cells": [
  {
   "cell_type": "markdown",
   "metadata": {},
   "source": [
    "## Question 1 ##"
   ]
  },
  {
   "cell_type": "code",
   "execution_count": null,
   "metadata": {},
   "outputs": [],
   "source": [
    "def hashtag_parser(hashtag_string): \n",
    "    hashtagList = hashtag_string.split(',')\n",
    "    hashtagSet = set()\n",
    "    for tag in hashtagList:\n",
    "        hashtagSet.add(tag.strip('[]\"'))\n",
    "    \n",
    "    return hashtagSet\n",
    "#2.1"
   ]
  },
  {
   "cell_type": "markdown",
   "metadata": {},
   "source": [
    "## Question 2 ##"
   ]
  },
  {
   "cell_type": "code",
   "execution_count": null,
   "metadata": {},
   "outputs": [],
   "source": [
    "import os\n",
    "import csv\n",
    "tagSet = list()\n",
    "with open('tweets.csv', 'r', encoding = 'UTF-8' ) as file:\n",
    "    parsedCSV = csv.reader(file)\n",
    "    hashtag_col = 10  \n",
    "    for line in parsedCSV:\n",
    "        for tag in line[hashtag_col].split(\",\"):\n",
    "            tag = tag.strip('[]')\n",
    "        if tag != '':\n",
    "            tagSet.append(tag)\n",
    "        #print(tag)\n",
    "    \n",
    "        \n",
    "#2.2"
   ]
  },
  {
   "cell_type": "markdown",
   "metadata": {},
   "source": [
    "## Question 3 and 4 ##"
   ]
  },
  {
   "cell_type": "code",
   "execution_count": null,
   "metadata": {
    "scrolled": false
   },
   "outputs": [],
   "source": [
    "with open('tweets.csv', 'r', encoding = 'UTF-8' ) as file:\n",
    "    parsedCSV = csv.reader(file)\n",
    "    headers = next(parsedCSV)\n",
    "    hashtag_col = 10\n",
    "    hashtagist = []\n",
    "    tweet_count = 0\n",
    "    not_in_count=0\n",
    "    in_count=0\n",
    "    tag_counts = dict()\n",
    "    for line in parsedCSV:\n",
    "        tweet_count += 1\n",
    "        if len(tag) ==0:\n",
    "             not_in_count+= 1\n",
    "        if len(tag)!=0: \n",
    "            in_count+= 1\n",
    "        tweet_tags = hashtag_parser(line[hashtag_col])\n",
    "        for tag in tweet_tags:\n",
    "            if tag in tag_counts:\n",
    "                tag_counts[tag] +=1\n",
    "            else:\n",
    "                tag_counts[tag] = 1\n",
    "       \n",
    "\n",
    "\n",
    "    #print(tag_counts)\n",
    "    #print(not_in_count,in_count) #Finds empty tags and tags with tweets\n",
    "    #print(tweet_count)\n",
    "#2.3 and 2.4"
   ]
  },
  {
   "cell_type": "markdown",
   "metadata": {},
   "source": [
    "## Question 5 ##"
   ]
  },
  {
   "cell_type": "code",
   "execution_count": null,
   "metadata": {},
   "outputs": [],
   "source": [
    "def most_used_hashtag(tag_dict):\n",
    "    tuples=[]\n",
    "    for i in tag_dict.keys():\n",
    "        tuples.append((tag_dict[i],i))\n",
    "    tuples.sort(reverse=True)\n",
    "    return tuples[0:9]\n",
    "print(most_used_hashtag(tag_counts))\n",
    "#2.5\n"
   ]
  },
  {
   "cell_type": "markdown",
   "metadata": {},
   "source": [
    "## Question 6 ##"
   ]
  },
  {
   "cell_type": "code",
   "execution_count": null,
   "metadata": {},
   "outputs": [],
   "source": [
    "\n",
    "djt_count=0\n",
    "group1=[\"Donald\",\"donald\",\"Trump\",\"trump\",\"mega\",\"Trump2016\"]\n",
    "for i in group1:\n",
    "    for tag in tag_counts:\n",
    "        if i in tag:\n",
    "            djt_count+=1\n",
    "            continue\n",
    "hrc_count=0  \n",
    "group2=[\"hillary\",\"Hillary\",\"Clinton\",\"clinton\",\"HRC\",\"hrc\",\"neverHillary\"]\n",
    "for i in group2:\n",
    "    for tag in tag_counts:\n",
    "        if i in tag:\n",
    "            hrc_count+=1\n",
    "            continue\n",
    "bho_count=0\n",
    "group3=[\"Obama\",\"obama\",\"Barak\",\"barak\"]\n",
    "for i in group3:\n",
    "    for tag in tag_counts:\n",
    "        if i in tag:\n",
    "            bho_count+=1\n",
    "            continue\n",
    "other_count=0 \n",
    "group4=[\"IslamKills\"]\n",
    "for i in group1:\n",
    "    for tag in tag_counts:\n",
    "        if i in tag:\n",
    "            other_count+=1\n",
    "            continue\n",
    "\n",
    "group1percent=djt_count/tweet_count\n",
    "group2percent=hrc_count/tweet_count\n",
    "group3percent=bho_count/tweet_count\n",
    "group4percent=other_count/tweet_count\n",
    "print(group1percent,group2percent,group3percent,group4percent)\n",
    "import matplotlib.pyplot as plt\n",
    "%matplotlib inline\n",
    "plt.bar(['Trump','Clinton','Obama'],[djt_count,hrc_count,bho_count])\n",
    "plt.xlabel('Topic')\n",
    "plt.ylabel('Number of Tweets')\n",
    "plt.title('Number of Tweets by topic')\n",
    "plt.grid(True)\n",
    "plt.show()\n",
    "print(djt_count,hrc_count,bho_count)\n",
    "#2.6"
   ]
  },
  {
   "cell_type": "markdown",
   "metadata": {},
   "source": [
    "## Question 7 ##"
   ]
  },
  {
   "cell_type": "code",
   "execution_count": null,
   "metadata": {},
   "outputs": [],
   "source": [
    "djt_hrccount=0\n",
    "group1=[\"Donald\",\"donald\",\"Trump\",\"trump\",\"mega\",\"Trump2016\"] and [\"hillary\",\"Hillary\",\"Clinton\",\"clinton\",\"HRC\",\"hrc\",\"neverHillary\"]\n",
    "for i in group1:\n",
    "    for tag in tag_counts:\n",
    "        if i in tag:\n",
    "            djt_hrccount+=1\n",
    "            continue\n",
    "hrc_bhocount=0  \n",
    "group2=[\"hillary\",\"Hillary\",\"Clinton\",\"clinton\",\"HRC\",\"hrc\",\"neverHillary\"]and[\"Obama\",\"obama\",\"Barak\",\"barak\"]\n",
    "for i in group2:\n",
    "    for tag in tag_counts:\n",
    "        if i in tag:\n",
    "            hrc_bhocount+=1\n",
    "            continue\n",
    "bho_bjtcount=0\n",
    "group3=[\"Obama\",\"obama\",\"Barak\",\"barak\"]and [\"Donald\",\"donald\",\"Trump\",\"trump\",\"mega\",\"Trump2016\",]\n",
    "for i in group3:\n",
    "    for tag in tag_counts:\n",
    "        if i in tag:\n",
    "            bho_bjtcount+=1\n",
    "            continue\n",
    "import matplotlib.pyplot as plt\n",
    "plt.bar(['Trump&Clinton','Clinton&Obama','Obama&Trump'],[djt_hrccount,hrc_bhocount,bho_bjtcount])\n",
    "plt.xlabel('Topic')\n",
    "plt.ylabel('Number of Tweets')\n",
    "plt.title('Number of Tweets by topic')\n",
    "plt.grid(True)\n",
    "plt.show()\n",
    "print(djt_hrccount,hrc_bhocount,bho_bjtcount)\n",
    "#2.7"
   ]
  }
 ],
 "metadata": {
  "kernelspec": {
   "display_name": "Python 3",
   "language": "python",
   "name": "python3"
  },
  "language_info": {
   "codemirror_mode": {
    "name": "ipython",
    "version": 3
   },
   "file_extension": ".py",
   "mimetype": "text/x-python",
   "name": "python",
   "nbconvert_exporter": "python",
   "pygments_lexer": "ipython3",
   "version": "3.7.1"
  }
 },
 "nbformat": 4,
 "nbformat_minor": 2
}
